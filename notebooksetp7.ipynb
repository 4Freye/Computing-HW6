{
 "cells": [
  {
   "cell_type": "markdown",
   "metadata": {},
   "source": [
    "Import Library"
   ]
  },
  {
   "cell_type": "code",
   "execution_count": 1,
   "metadata": {},
   "outputs": [],
   "source": [
    "from Diabetes_Predictor.Load.load import *\n",
    "from Diabetes_Predictor.Process.process import *\n",
    "from Diabetes_Predictor.Model.model import *"
   ]
  },
  {
   "cell_type": "code",
   "execution_count": 2,
   "metadata": {},
   "outputs": [],
   "source": [
    "#a\n",
    "loaddata1 = LoadData('sample_diabetes_mellitus_data.csv')\n",
    "df = loaddata1.create_df()\n",
    "\n",
    "#train, test = loaddata1.split(seed= 1)"
   ]
  },
  {
   "cell_type": "code",
   "execution_count": 3,
   "metadata": {},
   "outputs": [],
   "source": [
    "#b and c\n",
    "df = PreProcess.drop_na(df, ['age','gender','ethnicity'])\n",
    "df = PreProcessFill.fill_na(df, ['height','weight'])"
   ]
  },
  {
   "cell_type": "code",
   "execution_count": 4,
   "metadata": {},
   "outputs": [],
   "source": [
    "#d\n",
    "df = concat.create_feature(df, 'ethnicity','gender')\n",
    "df = dummify.create_feature(df)\n",
    "\n",
    "df.dropna(inplace=True, axis=0)\n"
   ]
  },
  {
   "cell_type": "code",
   "execution_count": 5,
   "metadata": {},
   "outputs": [],
   "source": [
    "#e and f\n",
    "#split\n",
    "train, test = LoadData(df).split(seed=1)\n",
    "#train, test = model.split(df,seed=1)\n",
    "\n",
    "#name target and features\n",
    "target = 'diabetes_mellitus'\n",
    "features = train.columns.values[[x != target for x in train.columns.values]]\n",
    "\n",
    "#model create\n",
    "model1 = Model(features= features, target=target)\n",
    "\n",
    "#fit model\n",
    "model1.fit(train)\n",
    "#predict model\n",
    "predictions = model1.predict(test)"
   ]
  }
 ],
 "metadata": {
  "kernelspec": {
   "display_name": "Python 3.10.8 ('cdsHW6')",
   "language": "python",
   "name": "python3"
  },
  "language_info": {
   "codemirror_mode": {
    "name": "ipython",
    "version": 3
   },
   "file_extension": ".py",
   "mimetype": "text/x-python",
   "name": "python",
   "nbconvert_exporter": "python",
   "pygments_lexer": "ipython3",
   "version": "3.10.8"
  },
  "orig_nbformat": 4,
  "vscode": {
   "interpreter": {
    "hash": "9a11df54ddb1fa83b571b766b3017e2e676da50e65f9ff498d5b99ed6ae7d42f"
   }
  }
 },
 "nbformat": 4,
 "nbformat_minor": 2
}
